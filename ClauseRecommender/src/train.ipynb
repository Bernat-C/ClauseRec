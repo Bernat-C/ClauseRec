{
 "cells": [
  {
   "cell_type": "code",
   "execution_count": 51,
   "metadata": {},
   "outputs": [],
   "source": [
    "import time\n",
    "import os\n",
    "from tqdm import tqdm\n",
    "import numpy as np\n",
    "import matplotlib.pyplot as plt\n",
    "\n",
    "import torch\n",
    "from torch_geometric.nn import to_hetero\n",
    "from torch_geometric.loader import DataLoader, NeighborLoader\n",
    "from sklearn.model_selection import train_test_split\n",
    "\n",
    "from clauserec import ClauseRec\n",
    "from dataset import DimacsDataset\n",
    "from validation import validate"
   ]
  },
  {
   "cell_type": "code",
   "execution_count": 52,
   "metadata": {},
   "outputs": [
    {
     "name": "stderr",
     "output_type": "stream",
     "text": [
      "The train file J6033_3.RCP.train has been created.: 100%|██████████| 185/185 [01:02<00:00,  2.98it/s] \n",
      "Processing...\n",
      "Done!\n"
     ]
    },
    {
     "name": "stdout",
     "output_type": "stream",
     "text": [
      "148\n",
      "19\n",
      "18\n"
     ]
    }
   ],
   "source": [
    "root_dir = \"../data/\"\n",
    "data_dir = \"../../solved/tr/\"\n",
    "NMAX = 1000\n",
    "\n",
    "dataset = DimacsDataset(root_dir, data_dir, nmax=NMAX)\n",
    "\n",
    "train_set, test_set = train_test_split(dataset, test_size=0.1, random_state=42)\n",
    "\n",
    "print(len(train_set))\n",
    "print(len(test_set))"
   ]
  },
  {
   "cell_type": "code",
   "execution_count": 3,
   "metadata": {},
   "outputs": [],
   "source": [
    "# Instantiate a homogeneous GNN\n",
    "model = ClauseRec(hidden_channels=64) \n",
    "# Convert it to Heterogeneous to work with our data\n",
    "model = to_hetero(model, dataset.getMetadata(),aggr='sum')"
   ]
  },
  {
   "cell_type": "code",
   "execution_count": 4,
   "metadata": {},
   "outputs": [],
   "source": [
    "train_loader = DataLoader(train_set,batch_size=4,shuffle=True)\n",
    "test_loader = DataLoader(test_set,batch_size=4,shuffle=True)"
   ]
  },
  {
   "cell_type": "code",
   "execution_count": 5,
   "metadata": {},
   "outputs": [
    {
     "data": {
      "text/plain": [
       "<torch_geometric.loader.dataloader.DataLoader at 0x7fdbdda335b0>"
      ]
     },
     "execution_count": 5,
     "metadata": {},
     "output_type": "execute_result"
    }
   ],
   "source": [
    "train_loader"
   ]
  },
  {
   "cell_type": "code",
   "execution_count": 11,
   "metadata": {},
   "outputs": [],
   "source": [
    "device = 'cuda' if torch.cuda.is_available() else 'cpu'\n",
    "optimizer = torch.optim.Adam(model.parameters(), lr=0.5)\n",
    "#criterion = torch.nn.BCELoss()\n",
    "criterion = torch.nn.MSELoss()\n",
    "model = model.to(device)"
   ]
  },
  {
   "cell_type": "code",
   "execution_count": 7,
   "metadata": {},
   "outputs": [
    {
     "name": "stderr",
     "output_type": "stream",
     "text": [
      "Train Loss = 16824.596165060997, Test P@K=3 = 0.8099999999999999, Test R@K=3 = 0.24299999999999997:  11%|█         | 11/100 [2:08:54<23:04:06, 933.10s/it] "
     ]
    }
   ],
   "source": [
    "## TRAIN ##\n",
    "\n",
    "n_epochs = 100 \n",
    "K=3\n",
    "loss_vals=  []\n",
    "\n",
    "for epoch in (pbar := tqdm(range(n_epochs))):\n",
    "    epoch_loss= []\n",
    "    precisionK = recallK = total = total_loss =0\n",
    "    for batch in train_loader:\n",
    "        \n",
    "        model.train()\n",
    "        optimizer.zero_grad()\n",
    "        batch = batch.to(device)\n",
    "                                \n",
    "        pred = model(batch.x_dict, batch.edge_index_dict)\n",
    "        loss = criterion(pred['clauses'], batch['clauses'].y)\n",
    "                \n",
    "        loss.backward()\n",
    "        optimizer.step()\n",
    "        total_loss += float(loss)\n",
    "        epoch_loss.append(loss.item())\n",
    "        \n",
    "    avg_loss = sum(epoch_loss)/len(epoch_loss)\n",
    "        \n",
    "    with torch.no_grad():\n",
    "        model.eval()\n",
    "        for vbatch in test_loader:\n",
    "            vbatch = vbatch.to(device)\n",
    "            pK, rK = validate(vbatch, model, num_iterations=100, K=K)\n",
    "            precisionK += pK\n",
    "            recallK += rK\n",
    "            total += 1\n",
    "            \n",
    "    avg_precisionK = precisionK / total\n",
    "    avg_recallK = recallK / total\n",
    "    \n",
    "    loss_vals.append(avg_loss)\n",
    "\n",
    "    pbar.set_description(f\"Train Loss = {avg_loss}, Test P@K={K} = {avg_precisionK}, Test R@K={K} = {avg_recallK}\")\n",
    "    \n",
    "plt.plot(np.linspace(1, n_epochs, n_epochs).astype(int), loss_vals)"
   ]
  },
  {
   "cell_type": "code",
   "execution_count": 35,
   "metadata": {},
   "outputs": [],
   "source": [
    "model = ClauseRec(hidden_channels=128)\n",
    "device = 'cuda' if torch.cuda.is_available() else 'cpu'\n",
    "model.load_state_dict(torch.load(os.path.join(\"../data/\",\"models\",\"Regressor128.pt\")),strict=False)\n",
    "model = to_hetero(model, dataset.getMetadata(),aggr='sum')"
   ]
  },
  {
   "cell_type": "code",
   "execution_count": 50,
   "metadata": {},
   "outputs": [
    {
     "name": "stderr",
     "output_type": "stream",
     "text": [
      "5it [00:34,  6.81s/it]"
     ]
    },
    {
     "name": "stdout",
     "output_type": "stream",
     "text": [
      "Final Precision@K is: 0.8726\n",
      "Final Recall@K is: 0.08726444444444377\n"
     ]
    },
    {
     "name": "stderr",
     "output_type": "stream",
     "text": [
      "\n"
     ]
    }
   ],
   "source": [
    "## VALIDATION ##\n",
    "K = 1\n",
    "I = 1000\n",
    "N_conflicts = 10\n",
    "\n",
    "precisionK = recallK = total = 0\n",
    "test_loader = DataLoader(test_set,batch_size=4,shuffle=True)\n",
    "\n",
    "model.eval()\n",
    "model = model.to(device)\n",
    "for index, batch in (pbar := tqdm(enumerate(test_loader))):\n",
    "    batch = batch.to(device)\n",
    "    pK, rK = validate(batch,model,I,N_conflicts,K)\n",
    "    precisionK += pK\n",
    "    recallK += rK\n",
    "    total += 1\n",
    "        \n",
    "print(f\"Final Precision@K is: {precisionK / total}\")\n",
    "print(f\"Final Recall@K is: {recallK / total}\")"
   ]
  },
  {
   "cell_type": "code",
   "execution_count": 4,
   "metadata": {},
   "outputs": [],
   "source": [
    "#torch.save(model, os.path.join(dataset.root,\"models\",time.strftime(\"%Y%m%d-%H%M%S\") + \".pt\"))\n",
    "torch.save(model.state_dict(), os.path.join(dataset.root,\"models\",time.strftime(\"%Y%m%d-%H%M%S\") + \".pt\"))"
   ]
  },
  {
   "cell_type": "code",
   "execution_count": null,
   "metadata": {},
   "outputs": [
    {
     "data": {
      "text/plain": [
       "' model = ClauseRec(hidden_channels=64)\\nmodel.load_state_dict(torch.load(os.path.join(dataset.root,\"models\",\"20240430-121222.pt\")),strict=False)\\nmodel = to_hetero(model, dataset.getMetadata(),aggr=\\'sum\\') '"
      ]
     },
     "execution_count": 10,
     "metadata": {},
     "output_type": "execute_result"
    }
   ],
   "source": [
    "#model = torch.load(os.path.join(dataset.root,\"models\",\"20240410-091906.pt\"))\n",
    "\"\"\" model = ClauseRec(hidden_channels=64)\n",
    "model.load_state_dict(torch.load(os.path.join(dataset.root,\"models\",\"20240430-121222.pt\")),strict=False)\n",
    "model = to_hetero(model, dataset.getMetadata(),aggr='sum') \"\"\""
   ]
  },
  {
   "cell_type": "code",
   "execution_count": null,
   "metadata": {},
   "outputs": [
    {
     "data": {
      "text/plain": [
       "' test_loader = DataLoader(dataset,batch_size=64,shuffle=False)\\nmodel.eval()\\n\\nfor batch in tqdm(test_loader):\\n    model(batch.x_dict, batch.edge_index_dict) '"
      ]
     },
     "execution_count": 11,
     "metadata": {},
     "output_type": "execute_result"
    }
   ],
   "source": [
    "\"\"\" test_loader = DataLoader(dataset,batch_size=64,shuffle=False)\n",
    "model.eval()\n",
    "\n",
    "for batch in tqdm(test_loader):\n",
    "    model(batch.x_dict, batch.edge_index_dict) \"\"\""
   ]
  }
 ],
 "metadata": {
  "kernelspec": {
   "display_name": "Python 3",
   "language": "python",
   "name": "python3"
  },
  "language_info": {
   "codemirror_mode": {
    "name": "ipython",
    "version": 3
   },
   "file_extension": ".py",
   "mimetype": "text/x-python",
   "name": "python",
   "nbconvert_exporter": "python",
   "pygments_lexer": "ipython3",
   "version": "3.10.12"
  }
 },
 "nbformat": 4,
 "nbformat_minor": 2
}
